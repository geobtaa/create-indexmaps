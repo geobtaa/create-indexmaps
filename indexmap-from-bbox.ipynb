{
 "cells": [
  {
   "cell_type": "markdown",
   "metadata": {},
   "source": [
    "# Automate OpenIndexMaps GeoJSON Creation\n",
    "## *Regular Bounding Box*"
   ]
  },
  {
   "cell_type": "markdown",
   "metadata": {},
   "source": [
    "## Part 1: Introduction"
   ]
  },
  {
   "cell_type": "markdown",
   "metadata": {},
   "source": [
    "This demonstration is the Jupyter Notebook version of ***indexmap*** script, which is used to convert **regular** bounding box stored in csv file to <a href=\"https://openindexmaps.org/\">OpenIndexMaps GeoJSON</a>."
   ]
  },
  {
   "cell_type": "markdown",
   "metadata": {},
   "source": [
    "## Part 2: Preparation"
   ]
  },
  {
   "cell_type": "markdown",
   "metadata": {},
   "source": [
    "We will be using **Jupyter Notebook(anaconda 3)** to edit and run the script. Information on Anaconda installation can be found <a href='https://docs.anaconda.com/anaconda/install/'>here</a>. Please note that this script is running on Python 3.\n",
    "\n",
    "Here are all dependencies needed to be installed properly:\n",
    "- <a href='https://numpy.org/install/'>numpy</a>\n",
    "- <a href='https://python-visualization.github.io/folium/installing.html'>folium</a>\n",
    "\n",
    "To run this script you need:\n",
    "- **code**.csv formatted in GBL Metadata Template \n",
    "- directory path (**data** folder > **code** folder > **code**.csv)\n",
    "\n",
    "The script currently prints one GeoJSON file:\n",
    "- **code**.geojson\n",
    "\n",
    ">Original created on Dec 1 2020<br>\n",
    "@author: Yijing Zhou @YijingZhou33"
   ]
  },
  {
   "cell_type": "markdown",
   "metadata": {},
   "source": [
    "## Part 3: Get Started"
   ]
  },
  {
   "cell_type": "markdown",
   "metadata": {},
   "source": [
    "###  Step 1: Import modules"
   ]
  },
  {
   "cell_type": "code",
   "execution_count": 1,
   "metadata": {},
   "outputs": [],
   "source": [
    "import os\n",
    "import pandas as pd\n",
    "import json\n",
    "import folium\n",
    "import numpy as np"
   ]
  },
  {
   "cell_type": "markdown",
   "metadata": {},
   "source": [
    "### Step 2: Manual items to change"
   ]
  },
  {
   "cell_type": "code",
   "execution_count": 2,
   "metadata": {},
   "outputs": [],
   "source": [
    "##### Manually changed items #####\n",
    "## code and title of the metadata \n",
    "code = '03d-02'\n",
    "title = 'Iowa County Atlases - 03d-02'"
   ]
  },
  {
   "cell_type": "markdown",
   "metadata": {},
   "source": [
    "## Part 4: Create OpenIndexMap GeoJSON"
   ]
  },
  {
   "cell_type": "markdown",
   "metadata": {},
   "source": [
    "### Step 3: Convert GeoBlackLight Metadata csv file to dataframe"
   ]
  },
  {
   "cell_type": "code",
   "execution_count": 3,
   "metadata": {
    "scrolled": false
   },
   "outputs": [
    {
     "data": {
      "text/html": [
       "<div>\n",
       "<style scoped>\n",
       "    .dataframe tbody tr th:only-of-type {\n",
       "        vertical-align: middle;\n",
       "    }\n",
       "\n",
       "    .dataframe tbody tr th {\n",
       "        vertical-align: top;\n",
       "    }\n",
       "\n",
       "    .dataframe thead th {\n",
       "        text-align: right;\n",
       "    }\n",
       "</style>\n",
       "<table border=\"1\" class=\"dataframe\">\n",
       "  <thead>\n",
       "    <tr style=\"text-align: right;\">\n",
       "      <th></th>\n",
       "      <th>Title</th>\n",
       "      <th>Bounding Box</th>\n",
       "      <th>Identifier</th>\n",
       "    </tr>\n",
       "  </thead>\n",
       "  <tbody>\n",
       "    <tr>\n",
       "      <th>0</th>\n",
       "      <td>Plat book of Adair County, Iowa</td>\n",
       "      <td>-94.7025, 41.1561, -94.2424, 41.5033</td>\n",
       "      <td>a0c1f157-6f8d-49e2-b30c-d3823b865500</td>\n",
       "    </tr>\n",
       "    <tr>\n",
       "      <th>1</th>\n",
       "      <td>Plat book of Adams County, Iowa</td>\n",
       "      <td>-94.9308, 40.8989, -94.4722, 41.1578</td>\n",
       "      <td>8761dd95-7911-46f9-8c1b-641735e591dc</td>\n",
       "    </tr>\n",
       "    <tr>\n",
       "      <th>2</th>\n",
       "      <td>Plat book of Audubon County, Iowa</td>\n",
       "      <td>-95.0947, 41.5032, -94.7014, 41.8626</td>\n",
       "      <td>4fa559cd-91f6-4f9f-94ea-99c5f0efa2df</td>\n",
       "    </tr>\n",
       "    <tr>\n",
       "      <th>3</th>\n",
       "      <td>Plat book of Benton County, Iowa</td>\n",
       "      <td>-92.2996, 41.8617, -91.8318, 42.2987</td>\n",
       "      <td>62abb614-fc33-4368-8daa-2821995d86f8</td>\n",
       "    </tr>\n",
       "    <tr>\n",
       "      <th>4</th>\n",
       "      <td>Plat book of Black Hawk County, Iowa</td>\n",
       "      <td>-92.5554, 42.2972, -92.0647, 42.6413</td>\n",
       "      <td>132fd790-ff0b-4771-938a-f16b72325216</td>\n",
       "    </tr>\n",
       "  </tbody>\n",
       "</table>\n",
       "</div>"
      ],
      "text/plain": [
       "                                  Title                          Bounding Box  \\\n",
       "0       Plat book of Adair County, Iowa  -94.7025, 41.1561, -94.2424, 41.5033   \n",
       "1       Plat book of Adams County, Iowa  -94.9308, 40.8989, -94.4722, 41.1578   \n",
       "2     Plat book of Audubon County, Iowa  -95.0947, 41.5032, -94.7014, 41.8626   \n",
       "3      Plat book of Benton County, Iowa  -92.2996, 41.8617, -91.8318, 42.2987   \n",
       "4  Plat book of Black Hawk County, Iowa  -92.5554, 42.2972, -92.0647, 42.6413   \n",
       "\n",
       "                             Identifier  \n",
       "0  a0c1f157-6f8d-49e2-b30c-d3823b865500  \n",
       "1  8761dd95-7911-46f9-8c1b-641735e591dc  \n",
       "2  4fa559cd-91f6-4f9f-94ea-99c5f0efa2df  \n",
       "3  62abb614-fc33-4368-8daa-2821995d86f8  \n",
       "4  132fd790-ff0b-4771-938a-f16b72325216  "
      ]
     },
     "execution_count": 3,
     "metadata": {},
     "output_type": "execute_result"
    }
   ],
   "source": [
    "## list of metadata fields from the GBL metadata template for open data portals desired in the final OpenIndexMap geojson.\n",
    "collist = ['Title', 'Bounding Box', 'Identifier']\n",
    "\n",
    "## convert the whole csv file to dataframe\n",
    "df = pd.read_csv(os.path.join('data', code, code+'.csv'))\n",
    "\n",
    "## check if the metadata contains 'Image' column, if so then add it to the list\n",
    "## also more properties can be added here!\n",
    "if 'Image' in df.columns:\n",
    "    collist.append('Image')\n",
    "\n",
    "## only extract fields required for OpenIndexMap geojson properties\n",
    "df = df[collist]\n",
    "\n",
    "df.head()"
   ]
  },
  {
   "cell_type": "code",
   "execution_count": 4,
   "metadata": {},
   "outputs": [
    {
     "data": {
      "text/html": [
       "<div>\n",
       "<style scoped>\n",
       "    .dataframe tbody tr th:only-of-type {\n",
       "        vertical-align: middle;\n",
       "    }\n",
       "\n",
       "    .dataframe tbody tr th {\n",
       "        vertical-align: top;\n",
       "    }\n",
       "\n",
       "    .dataframe thead th {\n",
       "        text-align: right;\n",
       "    }\n",
       "</style>\n",
       "<table border=\"1\" class=\"dataframe\">\n",
       "  <thead>\n",
       "    <tr style=\"text-align: right;\">\n",
       "      <th></th>\n",
       "      <th>Title</th>\n",
       "      <th>Bounding Box</th>\n",
       "      <th>Identifier</th>\n",
       "    </tr>\n",
       "  </thead>\n",
       "  <tbody>\n",
       "  </tbody>\n",
       "</table>\n",
       "</div>"
      ],
      "text/plain": [
       "Empty DataFrame\n",
       "Columns: [Title, Bounding Box, Identifier]\n",
       "Index: []"
      ]
     },
     "execution_count": 4,
     "metadata": {},
     "output_type": "execute_result"
    }
   ],
   "source": [
    "## get the list of all duplicated records with same title\n",
    "## if so, go back to csv file to delete the redundant one and save it\n",
    "## then go to Kernel > Restart & Run All\n",
    "df[df.duplicated(['Title'], keep=False)].sort_values('Title')"
   ]
  },
  {
   "cell_type": "markdown",
   "metadata": {},
   "source": [
    "### Step 4: Build up OpenIndexMap schema"
   ]
  },
  {
   "cell_type": "code",
   "execution_count": 5,
   "metadata": {
    "scrolled": true
   },
   "outputs": [
    {
     "data": {
      "text/html": [
       "<div>\n",
       "<style scoped>\n",
       "    .dataframe tbody tr th:only-of-type {\n",
       "        vertical-align: middle;\n",
       "    }\n",
       "\n",
       "    .dataframe tbody tr th {\n",
       "        vertical-align: top;\n",
       "    }\n",
       "\n",
       "    .dataframe thead th {\n",
       "        text-align: right;\n",
       "    }\n",
       "</style>\n",
       "<table border=\"1\" class=\"dataframe\">\n",
       "  <thead>\n",
       "    <tr style=\"text-align: right;\">\n",
       "      <th></th>\n",
       "      <th>Title</th>\n",
       "      <th>Identifier</th>\n",
       "      <th>coordinates</th>\n",
       "      <th>websiteURL</th>\n",
       "    </tr>\n",
       "  </thead>\n",
       "  <tbody>\n",
       "    <tr>\n",
       "      <th>0</th>\n",
       "      <td>Plat book of Adair County, Iowa</td>\n",
       "      <td>a0c1f157-6f8d-49e2-b30c-d3823b865500</td>\n",
       "      <td>[[-94.24, 41.5], [-94.24, 41.16], [-94.7, 41.1...</td>\n",
       "      <td>https://geo.btaa.org/catalog/a0c1f157-6f8d-49e...</td>\n",
       "    </tr>\n",
       "    <tr>\n",
       "      <th>1</th>\n",
       "      <td>Plat book of Adams County, Iowa</td>\n",
       "      <td>8761dd95-7911-46f9-8c1b-641735e591dc</td>\n",
       "      <td>[[-94.47, 41.16], [-94.47, 40.9], [-94.93, 40....</td>\n",
       "      <td>https://geo.btaa.org/catalog/8761dd95-7911-46f...</td>\n",
       "    </tr>\n",
       "    <tr>\n",
       "      <th>2</th>\n",
       "      <td>Plat book of Audubon County, Iowa</td>\n",
       "      <td>4fa559cd-91f6-4f9f-94ea-99c5f0efa2df</td>\n",
       "      <td>[[-94.7, 41.86], [-94.7, 41.5], [-95.09, 41.5]...</td>\n",
       "      <td>https://geo.btaa.org/catalog/4fa559cd-91f6-4f9...</td>\n",
       "    </tr>\n",
       "    <tr>\n",
       "      <th>3</th>\n",
       "      <td>Plat book of Benton County, Iowa</td>\n",
       "      <td>62abb614-fc33-4368-8daa-2821995d86f8</td>\n",
       "      <td>[[-91.83, 42.3], [-91.83, 41.86], [-92.3, 41.8...</td>\n",
       "      <td>https://geo.btaa.org/catalog/62abb614-fc33-436...</td>\n",
       "    </tr>\n",
       "    <tr>\n",
       "      <th>4</th>\n",
       "      <td>Plat book of Black Hawk County, Iowa</td>\n",
       "      <td>132fd790-ff0b-4771-938a-f16b72325216</td>\n",
       "      <td>[[-92.06, 42.64], [-92.06, 42.3], [-92.56, 42....</td>\n",
       "      <td>https://geo.btaa.org/catalog/132fd790-ff0b-477...</td>\n",
       "    </tr>\n",
       "  </tbody>\n",
       "</table>\n",
       "</div>"
      ],
      "text/plain": [
       "                                  Title                            Identifier  \\\n",
       "0       Plat book of Adair County, Iowa  a0c1f157-6f8d-49e2-b30c-d3823b865500   \n",
       "1       Plat book of Adams County, Iowa  8761dd95-7911-46f9-8c1b-641735e591dc   \n",
       "2     Plat book of Audubon County, Iowa  4fa559cd-91f6-4f9f-94ea-99c5f0efa2df   \n",
       "3      Plat book of Benton County, Iowa  62abb614-fc33-4368-8daa-2821995d86f8   \n",
       "4  Plat book of Black Hawk County, Iowa  132fd790-ff0b-4771-938a-f16b72325216   \n",
       "\n",
       "                                         coordinates  \\\n",
       "0  [[-94.24, 41.5], [-94.24, 41.16], [-94.7, 41.1...   \n",
       "1  [[-94.47, 41.16], [-94.47, 40.9], [-94.93, 40....   \n",
       "2  [[-94.7, 41.86], [-94.7, 41.5], [-95.09, 41.5]...   \n",
       "3  [[-91.83, 42.3], [-91.83, 41.86], [-92.3, 41.8...   \n",
       "4  [[-92.06, 42.64], [-92.06, 42.3], [-92.56, 42....   \n",
       "\n",
       "                                          websiteURL  \n",
       "0  https://geo.btaa.org/catalog/a0c1f157-6f8d-49e...  \n",
       "1  https://geo.btaa.org/catalog/8761dd95-7911-46f...  \n",
       "2  https://geo.btaa.org/catalog/4fa559cd-91f6-4f9...  \n",
       "3  https://geo.btaa.org/catalog/62abb614-fc33-436...  \n",
       "4  https://geo.btaa.org/catalog/132fd790-ff0b-477...  "
      ]
     },
     "execution_count": 5,
     "metadata": {},
     "output_type": "execute_result"
    }
   ],
   "source": [
    "## create regular bouding box coordinate pairs and round them to 2 decimal places\n",
    "df = pd.concat([df, df['Bounding Box'].str.split(',', expand=True).astype(float).round(2)], axis=1).rename(\n",
    "    columns={0:'minX', 1:'minY', 2:'maxX', 3:'maxY'})\n",
    "df['maxXmaxY'] = df.apply(lambda row: [row.maxX, row.maxY], axis = 1)\n",
    "df['maxXminY'] = df.apply(lambda row: [row.maxX, row.minY], axis = 1)\n",
    "df['minXminY'] = df.apply(lambda row: [row.minX, row.minY], axis = 1)\n",
    "df['minXmaxY'] = df.apply(lambda row: [row.minX, row.maxY], axis = 1)\n",
    "df['coordinates'] = df[['maxXmaxY', 'maxXminY', 'minXminY', 'minXmaxY', 'maxXmaxY']].values.tolist()\n",
    "\n",
    "## concatenate landing page links\n",
    "df['websiteURL'] = 'https://geo.btaa.org/catalog/' + df['Identifier']\n",
    "\n",
    "## clean up unnecessary columns\n",
    "df_clean = df.drop(columns =['minX', 'minY', 'maxX', 'maxY', 'maxXmaxY', 'maxXminY', 'minXminY', 'minXmaxY', 'Bounding Box'])\n",
    "\n",
    "df_clean.head()"
   ]
  },
  {
   "cell_type": "markdown",
   "metadata": {},
   "source": [
    "### Step 5: Create geojson features"
   ]
  },
  {
   "cell_type": "code",
   "execution_count": 6,
   "metadata": {},
   "outputs": [
    {
     "name": "stdout",
     "output_type": "stream",
     "text": [
      "> Creating GeoJSON features...\n"
     ]
    }
   ],
   "source": [
    "# create_geojson_features \n",
    "def create_geojson_features(df):\n",
    "    print('> Creating GeoJSON features...')\n",
    "    features = []\n",
    "    geojson = {\n",
    "        'type': 'FeatureCollection',\n",
    "        'title': title,\n",
    "        'features': features\n",
    "    }\n",
    "    for _, row in df.iterrows():\n",
    "        feature = {\n",
    "            'type': 'Feature',\n",
    "            'id': row['Identifier'],\n",
    "            'geometry': {\n",
    "                'type':'Polygon', \n",
    "                'coordinates':[row['coordinates']]\n",
    "            },\n",
    "            'properties': {\n",
    "                'label': row['Title'],\n",
    "                'title': row['Title'],\n",
    "                'recordIdentifier': row['Identifier'],\n",
    "                'websiteUrl': row['websiteURL']\n",
    "            }\n",
    "        }\n",
    "        ### add more properties here if applicable\n",
    "        if 'Image' in df.columns:\n",
    "            feature['properties']['thumbnailUrl'] = row['Image']\n",
    "\n",
    "        features.append(feature)\n",
    "    return geojson\n",
    "\n",
    "data_geojson = create_geojson_features(df_clean)"
   ]
  },
  {
   "cell_type": "markdown",
   "metadata": {},
   "source": [
    "### Step 6: Generate geojson file"
   ]
  },
  {
   "cell_type": "code",
   "execution_count": 7,
   "metadata": {},
   "outputs": [
    {
     "name": "stdout",
     "output_type": "stream",
     "text": [
      "> Creating GeoJSON file...\n"
     ]
    }
   ],
   "source": [
    "with open(os.path.join('data', code, code+'.geojson'), 'w') as txtfile:\n",
    "    json.dump(data_geojson, txtfile)\n",
    "print('> Creating GeoJSON file...')"
   ]
  },
  {
   "cell_type": "markdown",
   "metadata": {},
   "source": [
    "## Part 5: Draw the index maps"
   ]
  },
  {
   "cell_type": "code",
   "execution_count": 8,
   "metadata": {},
   "outputs": [
    {
     "name": "stdout",
     "output_type": "stream",
     "text": [
      "> Making map...\n"
     ]
    },
    {
     "data": {
      "text/html": [
       "<div style=\"width:100%;\"><div style=\"position:relative;width:100%;height:0;padding-bottom:60%;\"><iframe src=\"about:blank\" style=\"position:absolute;width:100%;height:100%;left:0;top:0;border:none !important;\" data-html=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 onload=\"this.contentDocument.open();this.contentDocument.write(atob(this.getAttribute('data-html')));this.contentDocument.close();\" allowfullscreen webkitallowfullscreen mozallowfullscreen></iframe></div></div>"
      ],
      "text/plain": [
       "<folium.folium.Map at 0x21ab9330308>"
      ]
     },
     "execution_count": 8,
     "metadata": {},
     "output_type": "execute_result"
    }
   ],
   "source": [
    "print('> Making map...')\n",
    "## change the location here to zoom to the center\n",
    "m = folium.Map(location = [42.3756, -93.6397], control_scale = True, zoom_start = 7)\n",
    "\n",
    "## check if the indexmap geojson files can be rendered properly\n",
    "folium.GeoJson(open(os.path.join('data', code, code+'.geojson'), 'r').read(),\n",
    "               tooltip = folium.GeoJsonTooltip(fields=('title', 'websiteUrl'),\n",
    "                                               aliases=('title','websiteUrl')),\n",
    "               show = True).add_to(m)\n",
    "m"
   ]
  },
  {
   "cell_type": "code",
   "execution_count": null,
   "metadata": {},
   "outputs": [],
   "source": []
  }
 ],
 "metadata": {
  "kernelspec": {
   "display_name": "Python 3",
   "language": "python",
   "name": "python3"
  },
  "language_info": {
   "codemirror_mode": {
    "name": "ipython",
    "version": 3
   },
   "file_extension": ".py",
   "mimetype": "text/x-python",
   "name": "python",
   "nbconvert_exporter": "python",
   "pygments_lexer": "ipython3",
   "version": "3.7.6"
  }
 },
 "nbformat": 4,
 "nbformat_minor": 4
}
